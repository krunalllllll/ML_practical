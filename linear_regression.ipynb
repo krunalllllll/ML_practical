{
  "nbformat": 4,
  "nbformat_minor": 0,
  "metadata": {
    "colab": {
      "provenance": [],
      "collapsed_sections": [],
      "authorship_tag": "ABX9TyMhgVULQrBbKefZf2OxqKgO",
      "include_colab_link": true
    },
    "kernelspec": {
      "name": "python3",
      "display_name": "Python 3"
    },
    "language_info": {
      "name": "python"
    }
  },
  "cells": [
    {
      "cell_type": "markdown",
      "metadata": {
        "id": "view-in-github",
        "colab_type": "text"
      },
      "source": [
        "<a href=\"https://colab.research.google.com/github/krunalllllll/ML_practical/blob/main/linear_regression.ipynb\" target=\"_parent\"><img src=\"https://colab.research.google.com/assets/colab-badge.svg\" alt=\"Open In Colab\"/></a>"
      ]
    },
    {
      "cell_type": "code",
      "execution_count": 12,
      "metadata": {
        "colab": {
          "base_uri": "https://localhost:8080/",
          "height": 331
        },
        "id": "b0-U43wb6eDL",
        "outputId": "7b42f69f-622a-4ead-9560-e2836fb57bc3"
      },
      "outputs": [
        {
          "output_type": "stream",
          "name": "stdout",
          "text": [
            "Estimated coefficients:\n",
            "b_0 = 0.4285714285714288    \n",
            "b_1 = 0.9047619047619048\n"
          ]
        },
        {
          "output_type": "display_data",
          "data": {
            "text/plain": [
              "<Figure size 432x288 with 1 Axes>"
            ],
            "image/png": "[encoded data removed]"
          },
          "metadata": {
            "needs_background": "light"
          }
        }
      ],
      "source": [
        "import numpy as np\n",
        "import matplotlib.pyplot as plt\n",
        "\n",
        "def estimate_coef(x,y):\n",
        "   n=np.size(x)\n",
        "\n",
        "   m_x=np.mean(x)\n",
        "   m_y=np.mean(y)\n",
        "\n",
        "   SS_xy=np.sum(y*x) - n*m_y*m_x\n",
        "   SS_xx=np.sum(x*x) - n*m_x*m_x\n",
        "\n",
        "   b_1= SS_xy / SS_xx\n",
        "   b_0 = m_y - b_1*m_x\n",
        "\n",
        "   return (b_0, b_1)\n",
        "\n",
        "def plot_regression_line(x,y,b):\n",
        "  plt.scatter(x,y,color=\"red\",\n",
        "              marker=\"o\",s=30)\n",
        "  \n",
        "  y_pred = b[0] + b[1]*x\n",
        "\n",
        "  plt.plot(x,y_pred,color=\"blue\")\n",
        "\n",
        "  plt.xlabel('x')\n",
        "  plt.ylabel('y')\n",
        "\n",
        "  plt.show()\n",
        "\n",
        "def main():\n",
        "  x=np.array([1,2,3,4,5,6,7,8])\n",
        "  y=np.array([2,1,4,3,6,5,8,7])\n",
        "  b=estimate_coef(x,y)\n",
        "  print(\"Estimated coefficients:\\nb_0 = {} \\\n",
        "   \\nb_1 = {}\".format(b[0],b[1]))\n",
        "  \n",
        "  plot_regression_line(x,y,b)\n",
        "\n",
        "if __name__==\"__main__\":\n",
        "  main()"
      ]
    }
  ]
}