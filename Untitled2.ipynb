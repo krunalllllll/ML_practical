{
  "nbformat": 4,
  "nbformat_minor": 0,
  "metadata": {
    "colab": {
      "provenance": [],
      "authorship_tag": "ABX9TyPBdfrmN/mdrBoXLtzdiHTp",
      "include_colab_link": true
    },
    "kernelspec": {
      "name": "python3",
      "display_name": "Python 3"
    },
    "language_info": {
      "name": "python"
    }
  },
  "cells": [
    {
      "cell_type": "markdown",
      "metadata": {
        "id": "view-in-github",
        "colab_type": "text"
      },
      "source": [
        "<a href=\"https://colab.research.google.com/github/krunalllllll/ML_practical/blob/main/Untitled2.ipynb\" target=\"_parent\"><img src=\"https://colab.research.google.com/assets/colab-badge.svg\" alt=\"Open In Colab\"/></a>"
      ]
    },
    {
      "cell_type": "code",
      "execution_count": null,
      "metadata": {
        "colab": {
          "base_uri": "https://localhost:8080/"
        },
        "id": "4YJknf6tcPGU",
        "outputId": "8bef1df1-e1fe-4440-ec09-8837f3a6432e"
      },
      "outputs": [
        {
          "output_type": "stream",
          "name": "stdout",
          "text": [
            "confusion matrix \n",
            "[[3 2]\n",
            " [2 3]]\n"
          ]
        }
      ],
      "source": [
        "from sklearn.metrics import confusion_matrix\n",
        "from sklearn.metrics import classification_report\n",
        "a=[1,0,1,0,1,0,1,0,1,0]\n",
        "b=[1,1,1,1,1,0,0,0,0,0]\n",
        "matrix=confusion_matrix(a,b)\n",
        "cl_report=classification_report(a,b)\n",
        "print(\"confusion matrix \")\n",
        "print(matrix)"
      ]
    },
    {
      "cell_type": "code",
      "source": [
        "print(cl_report)"
      ],
      "metadata": {
        "colab": {
          "base_uri": "https://localhost:8080/"
        },
        "id": "OnXcA64xc_Y7",
        "outputId": "ab42a036-e029-4be6-b3f9-e664429b44d8"
      },
      "execution_count": null,
      "outputs": [
        {
          "output_type": "stream",
          "name": "stdout",
          "text": [
            "              precision    recall  f1-score   support\n",
            "\n",
            "           0       0.60      0.60      0.60         5\n",
            "           1       0.60      0.60      0.60         5\n",
            "\n",
            "    accuracy                           0.60        10\n",
            "   macro avg       0.60      0.60      0.60        10\n",
            "weighted avg       0.60      0.60      0.60        10\n",
            "\n"
          ]
        }
      ]
    }
  ]
}