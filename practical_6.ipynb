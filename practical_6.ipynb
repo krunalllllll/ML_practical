{
  "nbformat": 4,
  "nbformat_minor": 0,
  "metadata": {
    "colab": {
      "provenance": [],
      "authorship_tag": "ABX9TyOyWU7gvCBZKlI+zxyvhMw8",
      "include_colab_link": true
    },
    "kernelspec": {
      "name": "python3",
      "display_name": "Python 3"
    },
    "language_info": {
      "name": "python"
    }
  },
  "cells": [
    {
      "cell_type": "markdown",
      "metadata": {
        "id": "view-in-github",
        "colab_type": "text"
      },
      "source": [
        "<a href=\"https://colab.research.google.com/github/krunalllllll/ML_practical/blob/main/practical_6.ipynb\" target=\"_parent\"><img src=\"https://colab.research.google.com/assets/colab-badge.svg\" alt=\"Open In Colab\"/></a>"
      ]
    },
    {
      "cell_type": "code",
      "execution_count": 1,
      "metadata": {
        "colab": {
          "base_uri": "https://localhost:8080/",
          "height": 206
        },
        "id": "4wXmaNkMEL93",
        "outputId": "49b26b3b-deec-4ee0-fec9-5341a31c9a35"
      },
      "outputs": [
        {
          "output_type": "execute_result",
          "data": {
            "text/plain": [
              "   subject-id(1-50)  age-months  height-inches  weight-lbs  leg-length-inches  \\\n",
              "0                 1          40           40.5          43               23.0   \n",
              "1                 2          45           40.0          35               20.0   \n",
              "2                 3          47           39.5          35               21.0   \n",
              "3                 4          48           40.0          37               20.0   \n",
              "4                 5          49           39.0          36               20.0   \n",
              "\n",
              "   Speed-m/sec  Group  \n",
              "0      1.04289  Young  \n",
              "1      1.05322  Young  \n",
              "2      0.98953  Young  \n",
              "3      1.01551  Young  \n",
              "4      0.82461  Young  "
            ],
            "text/html": [
              "\n",
              "  <div id=\"df-77d5fc0a-31f4-4deb-9869-8475840673e5\">\n",
              "    <div class=\"colab-df-container\">\n",
              "      <div>\n",
              "<style scoped>\n",
              "    .dataframe tbody tr th:only-of-type {\n",
              "        vertical-align: middle;\n",
              "    }\n",
              "\n",
              "    .dataframe tbody tr th {\n",
              "        vertical-align: top;\n",
              "    }\n",
              "\n",
              "    .dataframe thead th {\n",
              "        text-align: right;\n",
              "    }\n",
              "</style>\n",
              "<table border=\"1\" class=\"dataframe\">\n",
              "  <thead>\n",
              "    <tr style=\"text-align: right;\">\n",
              "      <th></th>\n",
              "      <th>subject-id(1-50)</th>\n",
              "      <th>age-months</th>\n",
              "      <th>height-inches</th>\n",
              "      <th>weight-lbs</th>\n",
              "      <th>leg-length-inches</th>\n",
              "      <th>Speed-m/sec</th>\n",
              "      <th>Group</th>\n",
              "    </tr>\n",
              "  </thead>\n",
              "  <tbody>\n",
              "    <tr>\n",
              "      <th>0</th>\n",
              "      <td>1</td>\n",
              "      <td>40</td>\n",
              "      <td>40.5</td>\n",
              "      <td>43</td>\n",
              "      <td>23.0</td>\n",
              "      <td>1.04289</td>\n",
              "      <td>Young</td>\n",
              "    </tr>\n",
              "    <tr>\n",
              "      <th>1</th>\n",
              "      <td>2</td>\n",
              "      <td>45</td>\n",
              "      <td>40.0</td>\n",
              "      <td>35</td>\n",
              "      <td>20.0</td>\n",
              "      <td>1.05322</td>\n",
              "      <td>Young</td>\n",
              "    </tr>\n",
              "    <tr>\n",
              "      <th>2</th>\n",
              "      <td>3</td>\n",
              "      <td>47</td>\n",
              "      <td>39.5</td>\n",
              "      <td>35</td>\n",
              "      <td>21.0</td>\n",
              "      <td>0.98953</td>\n",
              "      <td>Young</td>\n",
              "    </tr>\n",
              "    <tr>\n",
              "      <th>3</th>\n",
              "      <td>4</td>\n",
              "      <td>48</td>\n",
              "      <td>40.0</td>\n",
              "      <td>37</td>\n",
              "      <td>20.0</td>\n",
              "      <td>1.01551</td>\n",
              "      <td>Young</td>\n",
              "    </tr>\n",
              "    <tr>\n",
              "      <th>4</th>\n",
              "      <td>5</td>\n",
              "      <td>49</td>\n",
              "      <td>39.0</td>\n",
              "      <td>36</td>\n",
              "      <td>20.0</td>\n",
              "      <td>0.82461</td>\n",
              "      <td>Young</td>\n",
              "    </tr>\n",
              "  </tbody>\n",
              "</table>\n",
              "</div>\n",
              "      <button class=\"colab-df-convert\" onclick=\"convertToInteractive('df-77d5fc0a-31f4-4deb-9869-8475840673e5')\"\n",
              "              title=\"Convert this dataframe to an interactive table.\"\n",
              "              style=\"display:none;\">\n",
              "        \n",
              "  <svg xmlns=\"http://www.w3.org/2000/svg\" height=\"24px\"viewBox=\"0 0 24 24\"\n",
              "       width=\"24px\">\n",
              "    <path d=\"M0 0h24v24H0V0z\" fill=\"none\"/>\n",
              "    <path d=\"M18.56 5.44l.94 2.06.94-2.06 2.06-.94-2.06-.94-.94-2.06-.94 2.06-2.06.94zm-11 1L8.5 8.5l.94-2.06 2.06-.94-2.06-.94L8.5 2.5l-.94 2.06-2.06.94zm10 10l.94 2.06.94-2.06 2.06-.94-2.06-.94-.94-2.06-.94 2.06-2.06.94z\"/><path d=\"M17.41 7.96l-1.37-1.37c-.4-.4-.92-.59-1.43-.59-.52 0-1.04.2-1.43.59L10.3 9.45l-7.72 7.72c-.78.78-.78 2.05 0 2.83L4 21.41c.39.39.9.59 1.41.59.51 0 1.02-.2 1.41-.59l7.78-7.78 2.81-2.81c.8-.78.8-2.07 0-2.86zM5.41 20L4 18.59l7.72-7.72 1.47 1.35L5.41 20z\"/>\n",
              "  </svg>\n",
              "      </button>\n",
              "      \n",
              "  <style>\n",
              "    .colab-df-container {\n",
              "      display:flex;\n",
              "      flex-wrap:wrap;\n",
              "      gap: 12px;\n",
              "    }\n",
              "\n",
              "    .colab-df-convert {\n",
              "      background-color: #E8F0FE;\n",
              "      border: none;\n",
              "      border-radius: 50%;\n",
              "      cursor: pointer;\n",
              "      display: none;\n",
              "      fill: #1967D2;\n",
              "      height: 32px;\n",
              "      padding: 0 0 0 0;\n",
              "      width: 32px;\n",
              "    }\n",
              "\n",
              "    .colab-df-convert:hover {\n",
              "      background-color: #E2EBFA;\n",
              "      box-shadow: 0px 1px 2px rgba(60, 64, 67, 0.3), 0px 1px 3px 1px rgba(60, 64, 67, 0.15);\n",
              "      fill: #174EA6;\n",
              "    }\n",
              "\n",
              "    [theme=dark] .colab-df-convert {\n",
              "      background-color: #3B4455;\n",
              "      fill: #D2E3FC;\n",
              "    }\n",
              "\n",
              "    [theme=dark] .colab-df-convert:hover {\n",
              "      background-color: #434B5C;\n",
              "      box-shadow: 0px 1px 3px 1px rgba(0, 0, 0, 0.15);\n",
              "      filter: drop-shadow(0px 1px 2px rgba(0, 0, 0, 0.3));\n",
              "      fill: #FFFFFF;\n",
              "    }\n",
              "  </style>\n",
              "\n",
              "      <script>\n",
              "        const buttonEl =\n",
              "          document.querySelector('#df-77d5fc0a-31f4-4deb-9869-8475840673e5 button.colab-df-convert');\n",
              "        buttonEl.style.display =\n",
              "          google.colab.kernel.accessAllowed ? 'block' : 'none';\n",
              "\n",
              "        async function convertToInteractive(key) {\n",
              "          const element = document.querySelector('#df-77d5fc0a-31f4-4deb-9869-8475840673e5');\n",
              "          const dataTable =\n",
              "            await google.colab.kernel.invokeFunction('convertToInteractive',\n",
              "                                                     [key], {});\n",
              "          if (!dataTable) return;\n",
              "\n",
              "          const docLinkHtml = 'Like what you see? Visit the ' +\n",
              "            '<a target=\"_blank\" href=https://colab.research.google.com/notebooks/data_table.ipynb>data table notebook</a>'\n",
              "            + ' to learn more about interactive tables.';\n",
              "          element.innerHTML = '';\n",
              "          dataTable['output_type'] = 'display_data';\n",
              "          await google.colab.output.renderOutput(dataTable, element);\n",
              "          const docLink = document.createElement('div');\n",
              "          docLink.innerHTML = docLinkHtml;\n",
              "          element.appendChild(docLink);\n",
              "        }\n",
              "      </script>\n",
              "    </div>\n",
              "  </div>\n",
              "  "
            ]
          },
          "metadata": {},
          "execution_count": 1
        }
      ],
      "source": [
        "import pandas as pd\n",
        "dataset = pd.read_csv(\"/content/sample_data/table.csv\")\n",
        "dataset.head()\n"
      ]
    },
    {
      "cell_type": "code",
      "source": [
        "a1=dataset[\"age-months\"]\n",
        "a2=dataset[\"weight-lbs\"]\n",
        "\n",
        "import matplotlib.pyplot as plt\n",
        "plt.title(\"Age months vs Weight(lbs)\")\n",
        "plt.xlabel(\"Age months\")\n",
        "plt.ylabel(\"Weight(lbs)\")\n",
        "plt.plot(a1,a2,\".\")\n",
        "plt.show()"
      ],
      "metadata": {
        "colab": {
          "base_uri": "https://localhost:8080/",
          "height": 295
        },
        "id": "tnLf9V6_Ejrs",
        "outputId": "7b60d8a6-8fec-4bdc-f10e-613130360f7a"
      },
      "execution_count": 2,
      "outputs": [
        {
          "output_type": "display_data",
          "data": {
            "text/plain": [
              "<Figure size 432x288 with 1 Axes>"
            ],
            "image/png": "[encoded data removed]"
          },
          "metadata": {
            "needs_background": "light"
          }
        }
      ]
    },
    {
      "cell_type": "code",
      "source": [
        "#standardization of data\n",
        "import numpy as np\n",
        "std1=(a1-np.mean(a1))/np.std(a1)\n",
        "std2=(a2-np.mean(a2))/np.std(a1)\n",
        "std3=np.array([std1.T,std2.T])"
      ],
      "metadata": {
        "id": "5K989T_tFs6C"
      },
      "execution_count": 3,
      "outputs": []
    },
    {
      "cell_type": "code",
      "source": [
        "#covariance\n",
        "covariance=np.cov(np.array([std1,std2]))"
      ],
      "metadata": {
        "id": "xXA5Vg89GJa3"
      },
      "execution_count": 4,
      "outputs": []
    },
    {
      "cell_type": "code",
      "source": [
        "#EigenValue ans EigenVector\n",
        "from numpy import linalg as LA\n",
        "eigen_val,eigen_vectors=LA.eig(covariance)\n",
        "print(eigen_val)\n",
        "print(eigen_vectors)"
      ],
      "metadata": {
        "colab": {
          "base_uri": "https://localhost:8080/"
        },
        "id": "Lcu8ipbRGXku",
        "outputId": "007a9d55-e5d2-4850-b4a2-926a96ed7d51"
      },
      "execution_count": 5,
      "outputs": [
        {
          "output_type": "stream",
          "name": "stdout",
          "text": [
            "[1.4664452  0.06668009]\n",
            "[[ 0.82543846 -0.56449212]\n",
            " [ 0.56449212  0.82543846]]\n"
          ]
        }
      ]
    },
    {
      "cell_type": "code",
      "source": [
        "#forming new feature set along PCA axes\n",
        "new_feature=np.matmul(std3.T,eigen_vectors[1:].T)\n",
        "new_feature[:8, :]"
      ],
      "metadata": {
        "colab": {
          "base_uri": "https://localhost:8080/"
        },
        "id": "oEVwk_gNGx4o",
        "outputId": "06716af4-a062-40e0-a767-308ee27181f2"
      },
      "execution_count": 6,
      "outputs": [
        {
          "output_type": "execute_result",
          "data": {
            "text/plain": [
              "array([[-1.32873276],\n",
              "       [-1.43650076],\n",
              "       [-1.40432227],\n",
              "       [-1.34117947],\n",
              "       [-1.34861701],\n",
              "       [-1.48977767],\n",
              "       [-0.97097439],\n",
              "       [-1.34740283]])"
            ]
          },
          "metadata": {},
          "execution_count": 6
        }
      ]
    },
    {
      "cell_type": "code",
      "source": [
        "******************************************************************\n",
        "PCA using Scikitlearn Framework\n",
        "******************************************************************"
      ],
      "metadata": {
        "id": "lVtSeTevHol1"
      },
      "execution_count": null,
      "outputs": []
    },
    {
      "cell_type": "code",
      "source": [
        "from sklearn.decomposition import PCA\n",
        "pca=PCA(n_components=1)\n",
        "decomposed_pcs = pca.fit_transform(std3.T)\n",
        "decomposed_pcs[:8, :]"
      ],
      "metadata": {
        "colab": {
          "base_uri": "https://localhost:8080/"
        },
        "id": "lX7HExYfHPzT",
        "outputId": "13f7a3ea-4dbd-4b19-d4e6-98ffb03a7c29"
      },
      "execution_count": 7,
      "outputs": [
        {
          "output_type": "execute_result",
          "data": {
            "text/plain": [
              "array([[-1.58146016],\n",
              "       [-1.59254022],\n",
              "       [-1.54548667],\n",
              "       [-1.4897814 ],\n",
              "       [-1.48234387],\n",
              "       [-1.57887933],\n",
              "       [-1.18651413],\n",
              "       [-1.44394202]])"
            ]
          },
          "metadata": {},
          "execution_count": 7
        }
      ]
    },
    {
      "cell_type": "code",
      "source": [
        "from sklearn.decomposition import PCA\n",
        "pca = PCA(n_components=2)\n",
        "decomposed_pcs=pca.fit_transform(std3.T)\n",
        "decomposed_pcs"
      ],
      "metadata": {
        "colab": {
          "base_uri": "https://localhost:8080/"
        },
        "id": "recItRWEH2Vk",
        "outputId": "5dbad2dd-354c-44ef-ed7b-57539bebc595"
      },
      "execution_count": 8,
      "outputs": [
        {
          "output_type": "execute_result",
          "data": {
            "text/plain": [
              "array([[-1.58146016,  0.39989558],\n",
              "       [-1.59254022,  0.13123514],\n",
              "       [-1.54548667,  0.09905665],\n",
              "       [-1.4897814 ,  0.13002096],\n",
              "       [-1.48234387,  0.09040494],\n",
              "       [-1.57887933, -0.05075573],\n",
              "       [-1.18651413,  0.3715121 ],\n",
              "       [-1.44394202, -0.00491635],\n",
              "       [-1.34862074,  0.0334855 ],\n",
              "       [-1.28426376,  0.12759261],\n",
              "       [-1.2062459 ,  0.03970886],\n",
              "       [-0.99086237,  0.20318213],\n",
              "       [-0.91906786,  0.25767322],\n",
              "       [-1.01924585, -0.19176391],\n",
              "       [-0.39039869,  0.1723703 ],\n",
              "       [-0.48693416,  0.03120963],\n",
              "       [-0.52776435, -0.07898672],\n",
              "       [-0.49558587, -0.03193317],\n",
              "       [-0.31116665,  0.18724536],\n",
              "       [-0.65769248, -0.36995977],\n",
              "       [-0.23193461,  0.20212043],\n",
              "       [-0.24923803,  0.07583483],\n",
              "       [-0.47448744, -0.25354005],\n",
              "       [-0.44352313, -0.30924532],\n",
              "       [-0.00911355,  0.32597768],\n",
              "       [-0.25910391, -0.09006679],\n",
              "       [-0.26775562, -0.15320958],\n",
              "       [-0.20339865, -0.05910247],\n",
              "       [-0.32467506, -0.28693272],\n",
              "       [ 0.13326129,  0.33220104],\n",
              "       [-0.07589888,  0.02635293],\n",
              "       [-0.1649968 , -0.15442376],\n",
              "       [-0.11672907, -0.08384343],\n",
              "       [-0.27883568, -0.42187002],\n",
              "       [ 0.12719041, -0.18159306],\n",
              "       [ 0.94683262, -0.39682411],\n",
              "       [ 1.09907335, -0.22469913],\n",
              "       [ 1.27605503,  0.03409542],\n",
              "       [ 1.33054612, -0.03769909],\n",
              "       [ 1.61150079,  0.32264011],\n",
              "       [ 1.46426925, -0.09461853],\n",
              "       [ 1.38382303, -0.21225241],\n",
              "       [ 1.35908208, -0.29892199],\n",
              "       [ 1.34299284, -0.32244877],\n",
              "       [ 1.41357317, -0.3707165 ],\n",
              "       [ 1.71562627, -0.23198418],\n",
              "       [ 1.71562627, -0.23198418],\n",
              "       [ 2.20331276,  0.22868548],\n",
              "       [ 2.59446379,  0.54819448],\n",
              "       [ 2.92125785,  0.77359638]])"
            ]
          },
          "metadata": {},
          "execution_count": 8
        }
      ]
    }
  ]
}