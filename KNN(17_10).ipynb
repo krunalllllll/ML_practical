{
  "nbformat": 4,
  "nbformat_minor": 0,
  "metadata": {
    "colab": {
      "provenance": [],
      "collapsed_sections": [],
      "authorship_tag": "ABX9TyPVIM19wm3cN0yTD27YxbNk",
      "include_colab_link": true
    },
    "kernelspec": {
      "name": "python3",
      "display_name": "Python 3"
    },
    "language_info": {
      "name": "python"
    }
  },
  "cells": [
    {
      "cell_type": "markdown",
      "metadata": {
        "id": "view-in-github",
        "colab_type": "text"
      },
      "source": [
        "<a href=\"https://colab.research.google.com/github/krunalllllll/ML_practical/blob/main/KNN(17_10).ipynb\" target=\"_parent\"><img src=\"https://colab.research.google.com/assets/colab-badge.svg\" alt=\"Open In Colab\"/></a>"
      ]
    },
    {
      "cell_type": "code",
      "execution_count": null,
      "metadata": {
        "colab": {
          "base_uri": "https://localhost:8080/",
          "height": 265
        },
        "id": "fTVGw55mI4p0",
        "outputId": "06bd0b4e-752e-4f53-eff9-11525d1ce4c5"
      },
      "outputs": [
        {
          "output_type": "display_data",
          "data": {
            "text/plain": [
              "<Figure size 432x288 with 1 Axes>"
            ],
            "image/png": "[encoded data removed]"
          },
          "metadata": {
            "needs_background": "light"
          }
        }
      ],
      "source": [
        "import matplotlib.pyplot as plt\n",
        "#data entry\n",
        "#use fit\n",
        "#use predict\n",
        "x=[2,3,4,5,2,3,4,5,2,2,5,5,5,6,7,8,6,7,8,8,8]\n",
        "y=[2,2,2,2,4,4,4,4,5,6,6,5,3,6,6,6,4,4,4,3,2]\n",
        "classes = [0,0,0,0,0,1,1,1,0,0,0,1,1,0,0,0,1,1,0,0,0]\n",
        "plt.scatter(x,y,c=classes)\n",
        "plt.show()"
      ]
    },
    {
      "cell_type": "code",
      "source": [
        "from sklearn.neighbors import KNeighborsClassifier\n",
        "\n",
        "data = list(zip(x,y))\n",
        "knn = KNeighborsClassifier(n_neighbors=1)\n",
        "\n",
        "knn.fit(data,classes)"
      ],
      "metadata": {
        "colab": {
          "base_uri": "https://localhost:8080/"
        },
        "id": "7RRbcICOOBHJ",
        "outputId": "500151fd-d430-438b-f191-562728c41909"
      },
      "execution_count": null,
      "outputs": [
        {
          "output_type": "execute_result",
          "data": {
            "text/plain": [
              "KNeighborsClassifier(n_neighbors=1)"
            ]
          },
          "metadata": {},
          "execution_count": 10
        }
      ]
    },
    {
      "cell_type": "code",
      "source": [
        "test_new_x = 2\n",
        "test_new_y = 4\n",
        "new_point = [(test_new_x,test_new_y)]\n",
        "prediction = knn.predict(new_point)\n",
        "print(prediction)\n"
      ],
      "metadata": {
        "colab": {
          "base_uri": "https://localhost:8080/"
        },
        "id": "VbqOaOenPCt8",
        "outputId": "8f53f543-9424-4845-f28e-e26de6d5f987"
      },
      "execution_count": null,
      "outputs": [
        {
          "output_type": "stream",
          "name": "stdout",
          "text": [
            "[1]\n"
          ]
        }
      ]
    },
    {
      "cell_type": "code",
      "source": [
        "from sklearn.neighbors import KNeighborsClassifier\n",
        "\n",
        "data = list(zip(x,y))\n",
        "knn = KNeighborsClassifier(n_neighbors=5)\n",
        "\n",
        "knn.fit(data,classes)"
      ],
      "metadata": {
        "colab": {
          "base_uri": "https://localhost:8080/"
        },
        "id": "SDVfy0g9SQy9",
        "outputId": "da5dfbbe-b8b6-4aeb-e80f-d101ef76f710"
      },
      "execution_count": null,
      "outputs": [
        {
          "output_type": "execute_result",
          "data": {
            "text/plain": [
              "KNeighborsClassifier()"
            ]
          },
          "metadata": {},
          "execution_count": 19
        }
      ]
    },
    {
      "cell_type": "code",
      "source": [
        "test_new_x = 6\n",
        "test_new_y = 3\n",
        "new_point = [(test_new_x,test_new_y)]\n",
        "prediction = knn.predict(new_point)\n",
        "print(prediction)"
      ],
      "metadata": {
        "colab": {
          "base_uri": "https://localhost:8080/"
        },
        "id": "QTefPHlCSXF-",
        "outputId": "f5793185-68b4-4f9c-c242-e4f6ac85438c"
      },
      "execution_count": null,
      "outputs": [
        {
          "output_type": "stream",
          "name": "stdout",
          "text": [
            "[1]\n"
          ]
        }
      ]
    },
    {
      "cell_type": "code",
      "source": [
        "import matplotlib.pyplot as plt\n",
        "#data entry\n",
        "#use fit\n",
        "#use predict\n",
        "x=[1,2,3,5,6,7,1,2,3,4,5,6,7,1,1,1,1,7,7,7,7,4,3,5,3,5,4,2,6,3,5]\n",
        "y=[1,1,1,1,1,1,5,5,5,5,5,5,5,2,3,4,5,2,3,4,5,8,3,3,2,2,3,6,6,7,7]\n",
        "classes = [1,1,1,1,1,1,1,0,2,1,1,1,1,4,1,1,1,1,1,1,1,1,1,1,1,1,1,1,1,1,1]\n",
        "plt.scatter(x,y,c=classes)\n",
        "plt.show()"
      ],
      "metadata": {
        "colab": {
          "base_uri": "https://localhost:8080/",
          "height": 265
        },
        "id": "FKLDpne6UvKT",
        "outputId": "a5aae587-bba0-4bcd-cf48-350fb32cc07b"
      },
      "execution_count": null,
      "outputs": [
        {
          "output_type": "display_data",
          "data": {
            "text/plain": [
              "<Figure size 432x288 with 1 Axes>"
            ],
            "image/png": "[encoded data removed]"
          },
          "metadata": {
            "needs_background": "light"
          }
        }
      ]
    }
  ]
}